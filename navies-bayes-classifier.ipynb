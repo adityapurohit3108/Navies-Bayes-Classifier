{
 "cells": [
  {
   "cell_type": "code",
   "execution_count": 1,
   "id": "244572d7",
   "metadata": {
    "execution": {
     "iopub.execute_input": "2023-01-07T09:13:44.055863Z",
     "iopub.status.busy": "2023-01-07T09:13:44.055418Z",
     "iopub.status.idle": "2023-01-07T09:13:45.193515Z",
     "shell.execute_reply": "2023-01-07T09:13:45.192424Z"
    },
    "id": "Gl34yFzYuUm4",
    "papermill": {
     "duration": 1.148024,
     "end_time": "2023-01-07T09:13:45.196669",
     "exception": false,
     "start_time": "2023-01-07T09:13:44.048645",
     "status": "completed"
    },
    "tags": []
   },
   "outputs": [],
   "source": [
    "from sklearn.datasets import load_iris\n",
    "from sklearn.model_selection import train_test_split\n",
    "from sklearn.naive_bayes import GaussianNB"
   ]
  },
  {
   "cell_type": "code",
   "execution_count": 2,
   "id": "2feed925",
   "metadata": {
    "execution": {
     "iopub.execute_input": "2023-01-07T09:13:45.206466Z",
     "iopub.status.busy": "2023-01-07T09:13:45.206042Z",
     "iopub.status.idle": "2023-01-07T09:13:45.218479Z",
     "shell.execute_reply": "2023-01-07T09:13:45.217255Z"
    },
    "id": "zSBn2ZO9wwoK",
    "papermill": {
     "duration": 0.020689,
     "end_time": "2023-01-07T09:13:45.221457",
     "exception": false,
     "start_time": "2023-01-07T09:13:45.200768",
     "status": "completed"
    },
    "tags": []
   },
   "outputs": [],
   "source": [
    "x,y = load_iris (return_X_y = True)"
   ]
  },
  {
   "cell_type": "code",
   "execution_count": 3,
   "id": "93161158",
   "metadata": {
    "execution": {
     "iopub.execute_input": "2023-01-07T09:13:45.231288Z",
     "iopub.status.busy": "2023-01-07T09:13:45.230851Z",
     "iopub.status.idle": "2023-01-07T09:13:45.250412Z",
     "shell.execute_reply": "2023-01-07T09:13:45.248493Z"
    },
    "id": "YUJWwyy3xN-J",
    "outputId": "abdc8868-c35e-4a5a-9857-d6376d03c76b",
    "papermill": {
     "duration": 0.030269,
     "end_time": "2023-01-07T09:13:45.255712",
     "exception": false,
     "start_time": "2023-01-07T09:13:45.225443",
     "status": "completed"
    },
    "tags": []
   },
   "outputs": [
    {
     "data": {
      "text/plain": [
       "array([[5.1, 3.5, 1.4, 0.2],\n",
       "       [4.9, 3. , 1.4, 0.2],\n",
       "       [4.7, 3.2, 1.3, 0.2],\n",
       "       [4.6, 3.1, 1.5, 0.2],\n",
       "       [5. , 3.6, 1.4, 0.2],\n",
       "       [5.4, 3.9, 1.7, 0.4],\n",
       "       [4.6, 3.4, 1.4, 0.3],\n",
       "       [5. , 3.4, 1.5, 0.2],\n",
       "       [4.4, 2.9, 1.4, 0.2],\n",
       "       [4.9, 3.1, 1.5, 0.1],\n",
       "       [5.4, 3.7, 1.5, 0.2],\n",
       "       [4.8, 3.4, 1.6, 0.2],\n",
       "       [4.8, 3. , 1.4, 0.1],\n",
       "       [4.3, 3. , 1.1, 0.1],\n",
       "       [5.8, 4. , 1.2, 0.2],\n",
       "       [5.7, 4.4, 1.5, 0.4],\n",
       "       [5.4, 3.9, 1.3, 0.4],\n",
       "       [5.1, 3.5, 1.4, 0.3],\n",
       "       [5.7, 3.8, 1.7, 0.3],\n",
       "       [5.1, 3.8, 1.5, 0.3],\n",
       "       [5.4, 3.4, 1.7, 0.2],\n",
       "       [5.1, 3.7, 1.5, 0.4],\n",
       "       [4.6, 3.6, 1. , 0.2],\n",
       "       [5.1, 3.3, 1.7, 0.5],\n",
       "       [4.8, 3.4, 1.9, 0.2],\n",
       "       [5. , 3. , 1.6, 0.2],\n",
       "       [5. , 3.4, 1.6, 0.4],\n",
       "       [5.2, 3.5, 1.5, 0.2],\n",
       "       [5.2, 3.4, 1.4, 0.2],\n",
       "       [4.7, 3.2, 1.6, 0.2],\n",
       "       [4.8, 3.1, 1.6, 0.2],\n",
       "       [5.4, 3.4, 1.5, 0.4],\n",
       "       [5.2, 4.1, 1.5, 0.1],\n",
       "       [5.5, 4.2, 1.4, 0.2],\n",
       "       [4.9, 3.1, 1.5, 0.2],\n",
       "       [5. , 3.2, 1.2, 0.2],\n",
       "       [5.5, 3.5, 1.3, 0.2],\n",
       "       [4.9, 3.6, 1.4, 0.1],\n",
       "       [4.4, 3. , 1.3, 0.2],\n",
       "       [5.1, 3.4, 1.5, 0.2],\n",
       "       [5. , 3.5, 1.3, 0.3],\n",
       "       [4.5, 2.3, 1.3, 0.3],\n",
       "       [4.4, 3.2, 1.3, 0.2],\n",
       "       [5. , 3.5, 1.6, 0.6],\n",
       "       [5.1, 3.8, 1.9, 0.4],\n",
       "       [4.8, 3. , 1.4, 0.3],\n",
       "       [5.1, 3.8, 1.6, 0.2],\n",
       "       [4.6, 3.2, 1.4, 0.2],\n",
       "       [5.3, 3.7, 1.5, 0.2],\n",
       "       [5. , 3.3, 1.4, 0.2],\n",
       "       [7. , 3.2, 4.7, 1.4],\n",
       "       [6.4, 3.2, 4.5, 1.5],\n",
       "       [6.9, 3.1, 4.9, 1.5],\n",
       "       [5.5, 2.3, 4. , 1.3],\n",
       "       [6.5, 2.8, 4.6, 1.5],\n",
       "       [5.7, 2.8, 4.5, 1.3],\n",
       "       [6.3, 3.3, 4.7, 1.6],\n",
       "       [4.9, 2.4, 3.3, 1. ],\n",
       "       [6.6, 2.9, 4.6, 1.3],\n",
       "       [5.2, 2.7, 3.9, 1.4],\n",
       "       [5. , 2. , 3.5, 1. ],\n",
       "       [5.9, 3. , 4.2, 1.5],\n",
       "       [6. , 2.2, 4. , 1. ],\n",
       "       [6.1, 2.9, 4.7, 1.4],\n",
       "       [5.6, 2.9, 3.6, 1.3],\n",
       "       [6.7, 3.1, 4.4, 1.4],\n",
       "       [5.6, 3. , 4.5, 1.5],\n",
       "       [5.8, 2.7, 4.1, 1. ],\n",
       "       [6.2, 2.2, 4.5, 1.5],\n",
       "       [5.6, 2.5, 3.9, 1.1],\n",
       "       [5.9, 3.2, 4.8, 1.8],\n",
       "       [6.1, 2.8, 4. , 1.3],\n",
       "       [6.3, 2.5, 4.9, 1.5],\n",
       "       [6.1, 2.8, 4.7, 1.2],\n",
       "       [6.4, 2.9, 4.3, 1.3],\n",
       "       [6.6, 3. , 4.4, 1.4],\n",
       "       [6.8, 2.8, 4.8, 1.4],\n",
       "       [6.7, 3. , 5. , 1.7],\n",
       "       [6. , 2.9, 4.5, 1.5],\n",
       "       [5.7, 2.6, 3.5, 1. ],\n",
       "       [5.5, 2.4, 3.8, 1.1],\n",
       "       [5.5, 2.4, 3.7, 1. ],\n",
       "       [5.8, 2.7, 3.9, 1.2],\n",
       "       [6. , 2.7, 5.1, 1.6],\n",
       "       [5.4, 3. , 4.5, 1.5],\n",
       "       [6. , 3.4, 4.5, 1.6],\n",
       "       [6.7, 3.1, 4.7, 1.5],\n",
       "       [6.3, 2.3, 4.4, 1.3],\n",
       "       [5.6, 3. , 4.1, 1.3],\n",
       "       [5.5, 2.5, 4. , 1.3],\n",
       "       [5.5, 2.6, 4.4, 1.2],\n",
       "       [6.1, 3. , 4.6, 1.4],\n",
       "       [5.8, 2.6, 4. , 1.2],\n",
       "       [5. , 2.3, 3.3, 1. ],\n",
       "       [5.6, 2.7, 4.2, 1.3],\n",
       "       [5.7, 3. , 4.2, 1.2],\n",
       "       [5.7, 2.9, 4.2, 1.3],\n",
       "       [6.2, 2.9, 4.3, 1.3],\n",
       "       [5.1, 2.5, 3. , 1.1],\n",
       "       [5.7, 2.8, 4.1, 1.3],\n",
       "       [6.3, 3.3, 6. , 2.5],\n",
       "       [5.8, 2.7, 5.1, 1.9],\n",
       "       [7.1, 3. , 5.9, 2.1],\n",
       "       [6.3, 2.9, 5.6, 1.8],\n",
       "       [6.5, 3. , 5.8, 2.2],\n",
       "       [7.6, 3. , 6.6, 2.1],\n",
       "       [4.9, 2.5, 4.5, 1.7],\n",
       "       [7.3, 2.9, 6.3, 1.8],\n",
       "       [6.7, 2.5, 5.8, 1.8],\n",
       "       [7.2, 3.6, 6.1, 2.5],\n",
       "       [6.5, 3.2, 5.1, 2. ],\n",
       "       [6.4, 2.7, 5.3, 1.9],\n",
       "       [6.8, 3. , 5.5, 2.1],\n",
       "       [5.7, 2.5, 5. , 2. ],\n",
       "       [5.8, 2.8, 5.1, 2.4],\n",
       "       [6.4, 3.2, 5.3, 2.3],\n",
       "       [6.5, 3. , 5.5, 1.8],\n",
       "       [7.7, 3.8, 6.7, 2.2],\n",
       "       [7.7, 2.6, 6.9, 2.3],\n",
       "       [6. , 2.2, 5. , 1.5],\n",
       "       [6.9, 3.2, 5.7, 2.3],\n",
       "       [5.6, 2.8, 4.9, 2. ],\n",
       "       [7.7, 2.8, 6.7, 2. ],\n",
       "       [6.3, 2.7, 4.9, 1.8],\n",
       "       [6.7, 3.3, 5.7, 2.1],\n",
       "       [7.2, 3.2, 6. , 1.8],\n",
       "       [6.2, 2.8, 4.8, 1.8],\n",
       "       [6.1, 3. , 4.9, 1.8],\n",
       "       [6.4, 2.8, 5.6, 2.1],\n",
       "       [7.2, 3. , 5.8, 1.6],\n",
       "       [7.4, 2.8, 6.1, 1.9],\n",
       "       [7.9, 3.8, 6.4, 2. ],\n",
       "       [6.4, 2.8, 5.6, 2.2],\n",
       "       [6.3, 2.8, 5.1, 1.5],\n",
       "       [6.1, 2.6, 5.6, 1.4],\n",
       "       [7.7, 3. , 6.1, 2.3],\n",
       "       [6.3, 3.4, 5.6, 2.4],\n",
       "       [6.4, 3.1, 5.5, 1.8],\n",
       "       [6. , 3. , 4.8, 1.8],\n",
       "       [6.9, 3.1, 5.4, 2.1],\n",
       "       [6.7, 3.1, 5.6, 2.4],\n",
       "       [6.9, 3.1, 5.1, 2.3],\n",
       "       [5.8, 2.7, 5.1, 1.9],\n",
       "       [6.8, 3.2, 5.9, 2.3],\n",
       "       [6.7, 3.3, 5.7, 2.5],\n",
       "       [6.7, 3. , 5.2, 2.3],\n",
       "       [6.3, 2.5, 5. , 1.9],\n",
       "       [6.5, 3. , 5.2, 2. ],\n",
       "       [6.2, 3.4, 5.4, 2.3],\n",
       "       [5.9, 3. , 5.1, 1.8]])"
      ]
     },
     "execution_count": 3,
     "metadata": {},
     "output_type": "execute_result"
    }
   ],
   "source": [
    "x"
   ]
  },
  {
   "cell_type": "code",
   "execution_count": 4,
   "id": "7898a6b0",
   "metadata": {
    "execution": {
     "iopub.execute_input": "2023-01-07T09:13:45.268175Z",
     "iopub.status.busy": "2023-01-07T09:13:45.267668Z",
     "iopub.status.idle": "2023-01-07T09:13:45.277675Z",
     "shell.execute_reply": "2023-01-07T09:13:45.276384Z"
    },
    "id": "Y4D0mxmPxZzS",
    "outputId": "9df49f75-cf4b-4d4c-d44f-77ede46c6784",
    "papermill": {
     "duration": 0.019383,
     "end_time": "2023-01-07T09:13:45.281189",
     "exception": false,
     "start_time": "2023-01-07T09:13:45.261806",
     "status": "completed"
    },
    "tags": []
   },
   "outputs": [
    {
     "data": {
      "text/plain": [
       "array([0, 0, 0, 0, 0, 0, 0, 0, 0, 0, 0, 0, 0, 0, 0, 0, 0, 0, 0, 0, 0, 0,\n",
       "       0, 0, 0, 0, 0, 0, 0, 0, 0, 0, 0, 0, 0, 0, 0, 0, 0, 0, 0, 0, 0, 0,\n",
       "       0, 0, 0, 0, 0, 0, 1, 1, 1, 1, 1, 1, 1, 1, 1, 1, 1, 1, 1, 1, 1, 1,\n",
       "       1, 1, 1, 1, 1, 1, 1, 1, 1, 1, 1, 1, 1, 1, 1, 1, 1, 1, 1, 1, 1, 1,\n",
       "       1, 1, 1, 1, 1, 1, 1, 1, 1, 1, 1, 1, 2, 2, 2, 2, 2, 2, 2, 2, 2, 2,\n",
       "       2, 2, 2, 2, 2, 2, 2, 2, 2, 2, 2, 2, 2, 2, 2, 2, 2, 2, 2, 2, 2, 2,\n",
       "       2, 2, 2, 2, 2, 2, 2, 2, 2, 2, 2, 2, 2, 2, 2, 2, 2, 2])"
      ]
     },
     "execution_count": 4,
     "metadata": {},
     "output_type": "execute_result"
    }
   ],
   "source": [
    "y"
   ]
  },
  {
   "cell_type": "code",
   "execution_count": 5,
   "id": "396f204e",
   "metadata": {
    "execution": {
     "iopub.execute_input": "2023-01-07T09:13:45.292780Z",
     "iopub.status.busy": "2023-01-07T09:13:45.292402Z",
     "iopub.status.idle": "2023-01-07T09:13:45.298548Z",
     "shell.execute_reply": "2023-01-07T09:13:45.297174Z"
    },
    "id": "SUkPHeTsxkRY",
    "papermill": {
     "duration": 0.014691,
     "end_time": "2023-01-07T09:13:45.301054",
     "exception": false,
     "start_time": "2023-01-07T09:13:45.286363",
     "status": "completed"
    },
    "tags": []
   },
   "outputs": [],
   "source": [
    "# split into training & testing\n",
    "x_tr , x_te , y_tr , y_te = train_test_split (x,y , test_size=0.10 , random_state=0)"
   ]
  },
  {
   "cell_type": "code",
   "execution_count": 6,
   "id": "30e1949b",
   "metadata": {
    "execution": {
     "iopub.execute_input": "2023-01-07T09:13:45.312353Z",
     "iopub.status.busy": "2023-01-07T09:13:45.311559Z",
     "iopub.status.idle": "2023-01-07T09:13:45.318794Z",
     "shell.execute_reply": "2023-01-07T09:13:45.317824Z"
    },
    "id": "VGogsxIryHfc",
    "outputId": "30d1d0a1-4d71-4a40-e20e-92a13c4a43fc",
    "papermill": {
     "duration": 0.015578,
     "end_time": "2023-01-07T09:13:45.321200",
     "exception": false,
     "start_time": "2023-01-07T09:13:45.305622",
     "status": "completed"
    },
    "tags": []
   },
   "outputs": [
    {
     "data": {
      "text/plain": [
       "(135, 4)"
      ]
     },
     "execution_count": 6,
     "metadata": {},
     "output_type": "execute_result"
    }
   ],
   "source": [
    "x_tr.shape"
   ]
  },
  {
   "cell_type": "code",
   "execution_count": 7,
   "id": "3b5564ef",
   "metadata": {
    "execution": {
     "iopub.execute_input": "2023-01-07T09:13:45.332465Z",
     "iopub.status.busy": "2023-01-07T09:13:45.331655Z",
     "iopub.status.idle": "2023-01-07T09:13:45.339279Z",
     "shell.execute_reply": "2023-01-07T09:13:45.338307Z"
    },
    "id": "JJqfCMdXySiG",
    "outputId": "e5ba710b-78bd-447f-b52f-4f270c6d504e",
    "papermill": {
     "duration": 0.016024,
     "end_time": "2023-01-07T09:13:45.341711",
     "exception": false,
     "start_time": "2023-01-07T09:13:45.325687",
     "status": "completed"
    },
    "tags": []
   },
   "outputs": [
    {
     "data": {
      "text/plain": [
       "(15, 4)"
      ]
     },
     "execution_count": 7,
     "metadata": {},
     "output_type": "execute_result"
    }
   ],
   "source": [
    "x_te.shape"
   ]
  },
  {
   "cell_type": "code",
   "execution_count": 8,
   "id": "12d55c0e",
   "metadata": {
    "execution": {
     "iopub.execute_input": "2023-01-07T09:13:45.354804Z",
     "iopub.status.busy": "2023-01-07T09:13:45.353978Z",
     "iopub.status.idle": "2023-01-07T09:13:45.360127Z",
     "shell.execute_reply": "2023-01-07T09:13:45.358968Z"
    },
    "id": "DTTFgksjyWIV",
    "papermill": {
     "duration": 0.017031,
     "end_time": "2023-01-07T09:13:45.363498",
     "exception": false,
     "start_time": "2023-01-07T09:13:45.346467",
     "status": "completed"
    },
    "tags": []
   },
   "outputs": [],
   "source": [
    "gnb = GaussianNB ()"
   ]
  },
  {
   "cell_type": "code",
   "execution_count": 9,
   "id": "ffc2e7f2",
   "metadata": {
    "execution": {
     "iopub.execute_input": "2023-01-07T09:13:45.377550Z",
     "iopub.status.busy": "2023-01-07T09:13:45.376890Z",
     "iopub.status.idle": "2023-01-07T09:13:45.387242Z",
     "shell.execute_reply": "2023-01-07T09:13:45.386238Z"
    },
    "id": "17WmIfEkycOU",
    "outputId": "8ff33095-e1fe-406e-932a-eed13942c63c",
    "papermill": {
     "duration": 0.020739,
     "end_time": "2023-01-07T09:13:45.389924",
     "exception": false,
     "start_time": "2023-01-07T09:13:45.369185",
     "status": "completed"
    },
    "tags": []
   },
   "outputs": [
    {
     "data": {
      "text/plain": [
       "GaussianNB()"
      ]
     },
     "execution_count": 9,
     "metadata": {},
     "output_type": "execute_result"
    }
   ],
   "source": [
    "gnb.fit (x_tr , y_tr)"
   ]
  },
  {
   "cell_type": "code",
   "execution_count": 10,
   "id": "4b99044f",
   "metadata": {
    "execution": {
     "iopub.execute_input": "2023-01-07T09:13:45.402300Z",
     "iopub.status.busy": "2023-01-07T09:13:45.401483Z",
     "iopub.status.idle": "2023-01-07T09:13:45.407277Z",
     "shell.execute_reply": "2023-01-07T09:13:45.405983Z"
    },
    "id": "524oQKOBypce",
    "papermill": {
     "duration": 0.014848,
     "end_time": "2023-01-07T09:13:45.409877",
     "exception": false,
     "start_time": "2023-01-07T09:13:45.395029",
     "status": "completed"
    },
    "tags": []
   },
   "outputs": [],
   "source": [
    "y_pred = gnb.predict (x_te)"
   ]
  },
  {
   "cell_type": "code",
   "execution_count": 11,
   "id": "cf570e34",
   "metadata": {
    "execution": {
     "iopub.execute_input": "2023-01-07T09:13:45.422115Z",
     "iopub.status.busy": "2023-01-07T09:13:45.421384Z",
     "iopub.status.idle": "2023-01-07T09:13:45.427683Z",
     "shell.execute_reply": "2023-01-07T09:13:45.426171Z"
    },
    "id": "ZR-s7yA1zCgb",
    "outputId": "2ffd54f5-9f07-4aa1-f028-2c321ce3a4d6",
    "papermill": {
     "duration": 0.015597,
     "end_time": "2023-01-07T09:13:45.430539",
     "exception": false,
     "start_time": "2023-01-07T09:13:45.414942",
     "status": "completed"
    },
    "tags": []
   },
   "outputs": [
    {
     "name": "stdout",
     "output_type": "stream",
     "text": [
      "[2 1 0 2 0 2 0 1 1 1 2 1 1 1 1]\n"
     ]
    }
   ],
   "source": [
    "print(y_te)"
   ]
  },
  {
   "cell_type": "code",
   "execution_count": 12,
   "id": "ffcb35ae",
   "metadata": {
    "execution": {
     "iopub.execute_input": "2023-01-07T09:13:45.443164Z",
     "iopub.status.busy": "2023-01-07T09:13:45.442369Z",
     "iopub.status.idle": "2023-01-07T09:13:45.449357Z",
     "shell.execute_reply": "2023-01-07T09:13:45.448330Z"
    },
    "id": "y2aY2nj4zJKi",
    "outputId": "6ddc0846-71f0-48eb-caa8-91ab13874448",
    "papermill": {
     "duration": 0.015897,
     "end_time": "2023-01-07T09:13:45.451661",
     "exception": false,
     "start_time": "2023-01-07T09:13:45.435764",
     "status": "completed"
    },
    "tags": []
   },
   "outputs": [
    {
     "data": {
      "text/plain": [
       "array([5.8, 6. , 5.5, 7.3, 5. , 6.3, 5. , 6.7, 6.8, 6.1, 6.1, 6.4, 6.1,\n",
       "       6.5, 6.1])"
      ]
     },
     "execution_count": 12,
     "metadata": {},
     "output_type": "execute_result"
    }
   ],
   "source": [
    "x_te [:,0]"
   ]
  },
  {
   "cell_type": "code",
   "execution_count": 13,
   "id": "4d33dfb4",
   "metadata": {
    "execution": {
     "iopub.execute_input": "2023-01-07T09:13:45.464359Z",
     "iopub.status.busy": "2023-01-07T09:13:45.463680Z",
     "iopub.status.idle": "2023-01-07T09:13:45.468308Z",
     "shell.execute_reply": "2023-01-07T09:13:45.467423Z"
    },
    "id": "jMiEFKswzNEJ",
    "papermill": {
     "duration": 0.013665,
     "end_time": "2023-01-07T09:13:45.470650",
     "exception": false,
     "start_time": "2023-01-07T09:13:45.456985",
     "status": "completed"
    },
    "tags": []
   },
   "outputs": [],
   "source": [
    "import matplotlib.pyplot as plt\n"
   ]
  },
  {
   "cell_type": "code",
   "execution_count": 14,
   "id": "0b791053",
   "metadata": {
    "execution": {
     "iopub.execute_input": "2023-01-07T09:13:45.483954Z",
     "iopub.status.busy": "2023-01-07T09:13:45.483215Z",
     "iopub.status.idle": "2023-01-07T09:13:45.755589Z",
     "shell.execute_reply": "2023-01-07T09:13:45.754249Z"
    },
    "id": "bhRITuwSzUOA",
    "outputId": "7cebedf9-31d7-4cd4-a277-fd988889e0db",
    "papermill": {
     "duration": 0.281964,
     "end_time": "2023-01-07T09:13:45.758151",
     "exception": false,
     "start_time": "2023-01-07T09:13:45.476187",
     "status": "completed"
    },
    "tags": []
   },
   "outputs": [
    {
     "data": {
      "text/plain": [
       "<matplotlib.collections.PathCollection at 0x7f04029aed10>"
      ]
     },
     "execution_count": 14,
     "metadata": {},
     "output_type": "execute_result"
    },
    {
     "data": {
      "image/png": "[encoded data removed]",
      "text/plain": [
       "<Figure size 432x288 with 1 Axes>"
      ]
     },
     "metadata": {
      "needs_background": "light"
     },
     "output_type": "display_data"
    }
   ],
   "source": [
    "plt.scatter (x_te [:,0] , x_te[:,1] , c= y_pred )"
   ]
  },
  {
   "cell_type": "code",
   "execution_count": 15,
   "id": "c6dfd643",
   "metadata": {
    "execution": {
     "iopub.execute_input": "2023-01-07T09:13:45.773457Z",
     "iopub.status.busy": "2023-01-07T09:13:45.772661Z",
     "iopub.status.idle": "2023-01-07T09:13:45.941282Z",
     "shell.execute_reply": "2023-01-07T09:13:45.940405Z"
    },
    "id": "EljrsHUTz14w",
    "outputId": "9b3aa4b4-0b2f-4fd8-b72a-3e3f3b71e823",
    "papermill": {
     "duration": 0.179708,
     "end_time": "2023-01-07T09:13:45.943622",
     "exception": false,
     "start_time": "2023-01-07T09:13:45.763914",
     "status": "completed"
    },
    "tags": []
   },
   "outputs": [
    {
     "data": {
      "text/plain": [
       "<matplotlib.collections.PathCollection at 0x7f0402a1aa10>"
      ]
     },
     "execution_count": 15,
     "metadata": {},
     "output_type": "execute_result"
    },
    {
     "data": {
      "image/png": "[encoded data removed]",
      "text/plain": [
       "<Figure size 432x288 with 1 Axes>"
      ]
     },
     "metadata": {
      "needs_background": "light"
     },
     "output_type": "display_data"
    }
   ],
   "source": [
    "plt.scatter (x_te[:,0] , x_te[:,1] , c= y_te)"
   ]
  }
 ],
 "metadata": {
  "kernelspec": {
   "display_name": "Python 3",
   "language": "python",
   "name": "python3"
  },
  "language_info": {
   "codemirror_mode": {
    "name": "ipython",
    "version": 3
   },
   "file_extension": ".py",
   "mimetype": "text/x-python",
   "name": "python",
   "nbconvert_exporter": "python",
   "pygments_lexer": "ipython3",
   "version": "3.7.12"
  },
  "papermill": {
   "default_parameters": {},
   "duration": 12.066772,
   "end_time": "2023-01-07T09:13:46.772648",
   "environment_variables": {},
   "exception": null,
   "input_path": "__notebook__.ipynb",
   "output_path": "__notebook__.ipynb",
   "parameters": {},
   "start_time": "2023-01-07T09:13:34.705876",
   "version": "2.3.4"
  }
 },
 "nbformat": 4,
 "nbformat_minor": 5
}
